{
 "cells": [
  {
   "cell_type": "code",
   "execution_count": 1,
   "id": "d3390573",
   "metadata": {},
   "outputs": [],
   "source": [
    "import urllib.request\n",
    "from bs4 import BeautifulSoup\n",
    "from pathlib import Path"
   ]
  },
  {
   "cell_type": "code",
   "execution_count": 2,
   "id": "daad9239",
   "metadata": {},
   "outputs": [],
   "source": [
    "root = 'http://mlg.ucd.ie/modules/python/EVdata/'\n",
    "# fetch the webpage\n",
    "f = urllib.request.urlopen(root)\n",
    "# parse the webpage with BeautifulSoup\n",
    "soup = BeautifulSoup(f.read())\n",
    "# find all <a> tags\n",
    "alist = soup.find_all('a')\n",
    "\n",
    "# parse all <a> tags and put all urls from 'href' attribute into a list\n",
    "cUrl = []\n",
    "for item in alist:\n",
    "    cUrl.append(item['href'])"
   ]
  },
  {
   "cell_type": "code",
   "execution_count": 3,
   "id": "75b6e06a",
   "metadata": {},
   "outputs": [],
   "source": [
    "# fetch file URLs from every sub-page, parse file names\n",
    "fileUrls = []\n",
    "fileNames = []\n",
    "for url in cUrl:\n",
    "    f = urllib.request.urlopen(root + url)\n",
    "    soup = BeautifulSoup(f.read())\n",
    "    fileUrls.append(root + soup.find('a')['href'])\n",
    "    \n",
    "for url in fileUrls:\n",
    "    fileNames.append(Path(url).name)"
   ]
  },
  {
   "cell_type": "code",
   "execution_count": 4,
   "id": "08acfaf0",
   "metadata": {},
   "outputs": [],
   "source": [
    "# create new directory to store raw data\n",
    "if not Path('./raw').exists():\n",
    "    Path('./raw').mkdir()"
   ]
  },
  {
   "cell_type": "code",
   "execution_count": 5,
   "id": "be1b9bda",
   "metadata": {},
   "outputs": [],
   "source": [
    "# fetch GPX data\n",
    "for count, url in enumerate(fileUrls):\n",
    "    urllib.request.urlretrieve(url, filename = Path('./raw').joinpath(fileNames[count]) )"
   ]
  }
 ],
 "metadata": {
  "kernelspec": {
   "display_name": "Python 3 (ipykernel)",
   "language": "python",
   "name": "python3"
  },
  "language_info": {
   "codemirror_mode": {
    "name": "ipython",
    "version": 3
   },
   "file_extension": ".py",
   "mimetype": "text/x-python",
   "name": "python",
   "nbconvert_exporter": "python",
   "pygments_lexer": "ipython3",
   "version": "3.9.13"
  }
 },
 "nbformat": 4,
 "nbformat_minor": 5
}
